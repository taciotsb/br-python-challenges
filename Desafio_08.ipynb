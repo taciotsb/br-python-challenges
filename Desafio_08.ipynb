{
 "cells": [
  {
   "cell_type": "markdown",
   "metadata": {
    "colab_type": "text",
    "id": "view-in-github"
   },
   "source": [
    "<a href=\"https://colab.research.google.com/github/WittmannF/br-data-science/blob/master/python/challenges/Desafio_8.ipynb\" target=\"_parent\"><img src=\"https://colab.research.google.com/assets/colab-badge.svg\" alt=\"Open In Colab\"/></a>"
   ]
  },
  {
   "cell_type": "markdown",
   "metadata": {
    "colab_type": "text",
    "id": "o3tkeMDNf6Jo"
   },
   "source": [
    "### Desafio 8\n",
    "\n",
    "Escreva um script Python para encontrar as 10 palavras mais longas em um arquivo.\n",
    "\n",
    "O arquivo TXT está localizado na mesma pasta do projeto (texto.txt)."
   ]
  },
  {
   "cell_type": "code",
   "execution_count": 1,
   "metadata": {
    "colab": {},
    "colab_type": "code",
    "id": "EknxjSG0f6Jo"
   },
   "outputs": [
    {
     "name": "stdout",
     "output_type": "stream",
     "text": [
      "[[1, 'a'], [1, 'a'], [1, 'a'], [2, 'We'], [2, 'as'], [2, 'by'], [2, 'in'], [2, 'in'], [2, 'is'], [2, 'is'], [2, 'is'], [2, 'of'], [2, 'or'], [2, 'or'], [2, 'to'], [2, 'to'], [2, 'we'], [3, 'C++'], [3, 'and'], [3, 'and'], [3, 'and'], [3, 'and'], [3, 'and'], [3, 'and'], [3, 'are'], [3, 'for'], [3, 'has'], [3, 'its'], [3, 'way'], [3, 'who'], [4, 'What'], [4, 'best'], [4, 'code'], [4, 'code'], [4, 'have'], [4, 'such'], [4, 'than'], [4, 'this'], [4, 'type'], [4, 'used'], [4, 'with'], [5, 'Java.'], [5, 'fewer'], [5, 'large'], [5, 'learn'], [5, 'lines'], [5, 'those'], [6, 'Python'], [6, 'Python'], [6, 'Python'], [6, 'allows'], [6, 'design'], [6, 'memory'], [6, 'syntax'], [6, 'system'], [6, 'widely'], [7, 'Python.'], [7, 'dynamic'], [7, 'dynamic'], [7, 'express'], [7, 'section'], [7, 'started'], [8, 'anything'], [8, 'concepts'], [8, 'exercise'], [8, 'familiar'], [8, 'features'], [8, 'multiple'], [8, 'possible'], [8, 'practice'], [8, 'standard'], [8, 'supports'], [9, '(beginner'], [9, 'automatic'], [9, 'including'], [9, 'language?'], [9, 'languages'], [9, 'styles.It'], [10, 'emphasizes'], [10, 'functional'], [10, 'imperative'], [10, 'management'], [10, 'paradigms,'], [10, 'philosophy'], [10, 'procedural'], [10, 'questions.'], [11, 'high-level,'], [11, 'library.The'], [11, 'programmers'], [11, 'programming'], [11, 'programming'], [11, 'programming'], [12, 'interpreted,'], [12, 'language.Its'], [12, 'readability,'], [13, 'comprehensive'], [13, 'intermediate)'], [16, 'general-purpose,'], [16, 'object-oriented,']]\n",
      "['object-oriented,', 'general-purpose,', 'intermediate)', 'comprehensive', 'readability,', 'language.Its', 'interpreted,', 'programming', 'programming', 'programming']\n"
     ]
    }
   ],
   "source": [
    "with open ('texto.txt','r') as arquivo:\n",
    "    t = arquivo.read()\n",
    "#print(t)\n",
    "\n",
    "x=t.split()\n",
    "v=len(x)\n",
    "\n",
    "lista=[]\n",
    "lista2=[]\n",
    "for a in x:\n",
    "    tamanho=len(a)\n",
    "    f=[tamanho,a]\n",
    "    lista.append(f)\n",
    "\n",
    "n=len(lista)\n",
    "for a in range(n-1,n-11,-1):\n",
    "    lista2.append(sorted(lista)[a][1])\n",
    "\n",
    "print(sorted(lista))\n",
    "print(lista2)"
   ]
  },
  {
   "cell_type": "code",
   "execution_count": 0,
   "metadata": {
    "colab": {},
    "colab_type": "code",
    "id": "ZYbqEWBG5nKx"
   },
   "outputs": [],
   "source": []
  }
 ],
 "metadata": {
  "anaconda-cloud": {},
  "colab": {
   "include_colab_link": true,
   "name": "Desafio 8.ipynb",
   "provenance": []
  },
  "kernelspec": {
   "display_name": "Python 3",
   "language": "python",
   "name": "python3"
  },
  "language_info": {
   "codemirror_mode": {
    "name": "ipython",
    "version": 3
   },
   "file_extension": ".py",
   "mimetype": "text/x-python",
   "name": "python",
   "nbconvert_exporter": "python",
   "pygments_lexer": "ipython3",
   "version": "3.8.5"
  }
 },
 "nbformat": 4,
 "nbformat_minor": 1
}
